{
 "cells": [
  {
   "cell_type": "code",
   "execution_count": 356,
   "metadata": {},
   "outputs": [
    {
     "data": {
      "text/plain": [
       "(6497, 13)"
      ]
     },
     "execution_count": 356,
     "metadata": {},
     "output_type": "execute_result"
    }
   ],
   "source": [
    "import pandas as pd\n",
    "import numpy as np\n",
    "import matplotlib.pyplot as plt\n",
    "import seaborn as sns\n",
    "import sklearn as sk\n",
    "\n",
    "\n",
    "combined_wine = pd.read_csv('combined_wine.csv')\n",
    "combined_wine.head()\n",
    "combined_wine.shape\n"
   ]
  },
  {
   "cell_type": "code",
   "execution_count": 357,
   "metadata": {},
   "outputs": [],
   "source": [
    "combined_wine_copy = combined_wine.copy()"
   ]
  },
  {
   "cell_type": "code",
   "execution_count": 358,
   "metadata": {},
   "outputs": [
    {
     "data": {
      "text/html": [
       "<div>\n",
       "<style scoped>\n",
       "    .dataframe tbody tr th:only-of-type {\n",
       "        vertical-align: middle;\n",
       "    }\n",
       "\n",
       "    .dataframe tbody tr th {\n",
       "        vertical-align: top;\n",
       "    }\n",
       "\n",
       "    .dataframe thead th {\n",
       "        text-align: right;\n",
       "    }\n",
       "</style>\n",
       "<table border=\"1\" class=\"dataframe\">\n",
       "  <thead>\n",
       "    <tr style=\"text-align: right;\">\n",
       "      <th></th>\n",
       "      <th>fixed acidity</th>\n",
       "      <th>volatile acidity</th>\n",
       "      <th>citric acid</th>\n",
       "      <th>residual sugar</th>\n",
       "      <th>chlorides</th>\n",
       "      <th>free sulfur dioxide</th>\n",
       "      <th>total sulfur dioxide</th>\n",
       "      <th>density</th>\n",
       "      <th>pH</th>\n",
       "      <th>sulphates</th>\n",
       "      <th>alcohol</th>\n",
       "      <th>quality</th>\n",
       "      <th>type</th>\n",
       "      <th>quality_label</th>\n",
       "    </tr>\n",
       "  </thead>\n",
       "  <tbody>\n",
       "    <tr>\n",
       "      <th>0</th>\n",
       "      <td>7.4</td>\n",
       "      <td>0.70</td>\n",
       "      <td>0.00</td>\n",
       "      <td>1.9</td>\n",
       "      <td>0.076</td>\n",
       "      <td>11.0</td>\n",
       "      <td>34.0</td>\n",
       "      <td>0.9978</td>\n",
       "      <td>3.51</td>\n",
       "      <td>0.56</td>\n",
       "      <td>9.4</td>\n",
       "      <td>5</td>\n",
       "      <td>red</td>\n",
       "      <td>medium</td>\n",
       "    </tr>\n",
       "    <tr>\n",
       "      <th>1</th>\n",
       "      <td>7.8</td>\n",
       "      <td>0.88</td>\n",
       "      <td>0.00</td>\n",
       "      <td>2.6</td>\n",
       "      <td>0.098</td>\n",
       "      <td>25.0</td>\n",
       "      <td>67.0</td>\n",
       "      <td>0.9968</td>\n",
       "      <td>3.20</td>\n",
       "      <td>0.68</td>\n",
       "      <td>9.8</td>\n",
       "      <td>5</td>\n",
       "      <td>red</td>\n",
       "      <td>medium</td>\n",
       "    </tr>\n",
       "    <tr>\n",
       "      <th>2</th>\n",
       "      <td>7.8</td>\n",
       "      <td>0.76</td>\n",
       "      <td>0.04</td>\n",
       "      <td>2.3</td>\n",
       "      <td>0.092</td>\n",
       "      <td>15.0</td>\n",
       "      <td>54.0</td>\n",
       "      <td>0.9970</td>\n",
       "      <td>3.26</td>\n",
       "      <td>0.65</td>\n",
       "      <td>9.8</td>\n",
       "      <td>5</td>\n",
       "      <td>red</td>\n",
       "      <td>medium</td>\n",
       "    </tr>\n",
       "    <tr>\n",
       "      <th>3</th>\n",
       "      <td>11.2</td>\n",
       "      <td>0.28</td>\n",
       "      <td>0.56</td>\n",
       "      <td>1.9</td>\n",
       "      <td>0.075</td>\n",
       "      <td>17.0</td>\n",
       "      <td>60.0</td>\n",
       "      <td>0.9980</td>\n",
       "      <td>3.16</td>\n",
       "      <td>0.58</td>\n",
       "      <td>9.8</td>\n",
       "      <td>6</td>\n",
       "      <td>red</td>\n",
       "      <td>medium</td>\n",
       "    </tr>\n",
       "    <tr>\n",
       "      <th>4</th>\n",
       "      <td>7.4</td>\n",
       "      <td>0.70</td>\n",
       "      <td>0.00</td>\n",
       "      <td>1.9</td>\n",
       "      <td>0.076</td>\n",
       "      <td>11.0</td>\n",
       "      <td>34.0</td>\n",
       "      <td>0.9978</td>\n",
       "      <td>3.51</td>\n",
       "      <td>0.56</td>\n",
       "      <td>9.4</td>\n",
       "      <td>5</td>\n",
       "      <td>red</td>\n",
       "      <td>medium</td>\n",
       "    </tr>\n",
       "  </tbody>\n",
       "</table>\n",
       "</div>"
      ],
      "text/plain": [
       "   fixed acidity  volatile acidity  citric acid  residual sugar  chlorides  \\\n",
       "0            7.4              0.70         0.00             1.9      0.076   \n",
       "1            7.8              0.88         0.00             2.6      0.098   \n",
       "2            7.8              0.76         0.04             2.3      0.092   \n",
       "3           11.2              0.28         0.56             1.9      0.075   \n",
       "4            7.4              0.70         0.00             1.9      0.076   \n",
       "\n",
       "   free sulfur dioxide  total sulfur dioxide  density    pH  sulphates  \\\n",
       "0                 11.0                  34.0   0.9978  3.51       0.56   \n",
       "1                 25.0                  67.0   0.9968  3.20       0.68   \n",
       "2                 15.0                  54.0   0.9970  3.26       0.65   \n",
       "3                 17.0                  60.0   0.9980  3.16       0.58   \n",
       "4                 11.0                  34.0   0.9978  3.51       0.56   \n",
       "\n",
       "   alcohol  quality type quality_label  \n",
       "0      9.4        5  red        medium  \n",
       "1      9.8        5  red        medium  \n",
       "2      9.8        5  red        medium  \n",
       "3      9.8        6  red        medium  \n",
       "4      9.4        5  red        medium  "
      ]
     },
     "execution_count": 358,
     "metadata": {},
     "output_type": "execute_result"
    }
   ],
   "source": [
    "#create a new column called 'quality_label' and assign the value based on the 'quality' column  value\n",
    "# 0-4 = 'low'   5-6 = 'medium'   7-10 = 'high'  \n",
    "combined_wine_copy['quality_label'] = combined_wine_copy['quality'].apply(lambda value: 'low' if value <= 4 else 'medium' if value <= 6 else 'high')\n",
    "\n",
    "combined_wine_copy.head()"
   ]
  },
  {
   "cell_type": "code",
   "execution_count": 359,
   "metadata": {},
   "outputs": [],
   "source": [
    "# numeric_features = combined_wine_copy.select_dtypes(include=[np.number]) #selecting only numerical features\n",
    "\n",
    "# mask = np.triu(numeric_features.corr())\n",
    "# plt.figure(figsize=(10, 8))\n",
    "# sns.heatmap(numeric_features.corr(), annot=True, fmt='.1f', cmap='coolwarm', mask=mask)\n",
    "# plt.show()\n"
   ]
  },
  {
   "cell_type": "code",
   "execution_count": 360,
   "metadata": {},
   "outputs": [],
   "source": [
    "# # Calculate IQR for each numeric feature\n",
    "# numeric_cols = combined_wine_copy.select_dtypes(include=[np.number]).columns\n",
    "# Q1 = combined_wine_copy[numeric_cols].quantile(0.25)\n",
    "# Q3 = combined_wine_copy[numeric_cols].quantile(0.75)\n",
    "# IQR = Q3 - Q1\n",
    "# outliers = combined_wine_copy[((combined_wine_copy[numeric_cols] < (Q1 - 1.5 * IQR)) | (combined_wine_copy[numeric_cols] > (Q3 + 1.5 * IQR))).any(axis=1)]\n",
    "# print(outliers.shape)\n",
    "\n",
    "# # Remove outliers\n",
    "# combined_wine_copy = combined_wine_copy[~combined_wine_copy.isin(outliers)].dropna()\n",
    "# print(combined_wine_copy.shape)"
   ]
  },
  {
   "cell_type": "code",
   "execution_count": 361,
   "metadata": {},
   "outputs": [
    {
     "data": {
      "text/plain": [
       "total sulfur dioxide  free sulfur dioxide    0.720934\n",
       "residual sugar        density                0.552517\n",
       "total sulfur dioxide  residual sugar         0.495482\n",
       "fixed acidity         density                0.458910\n",
       "quality               alcohol                0.444319\n",
       "free sulfur dioxide   residual sugar         0.402871\n",
       "sulphates             chlorides              0.395593\n",
       "chlorides             volatile acidity       0.377124\n",
       "                      density                0.362615\n",
       "dtype: float64"
      ]
     },
     "execution_count": 361,
     "metadata": {},
     "output_type": "execute_result"
    }
   ],
   "source": [
    "numeric_columns = combined_wine_copy.select_dtypes(include=[np.number]).columns\n",
    "corr_matrix  = combined_wine_copy[numeric_columns].corr() #correlation values\n",
    "corr_pairs = corr_matrix.unstack().sort_values(ascending=False) #correlation pairs\n",
    "unique_corr_pairs = corr_pairs.drop_duplicates() #drop duplicates\n",
    "unique_corr_pairs[1:10] #top 10 correlation pairs\n",
    "\n"
   ]
  },
  {
   "cell_type": "code",
   "execution_count": 362,
   "metadata": {},
   "outputs": [],
   "source": [
    "# # Select the numeric columns\n",
    "\n",
    "# numeric_columns = combined_wine_copy.select_dtypes(include=[np.number]).columns\n",
    "\n",
    "# # Calculate the correlation matrix\n",
    "# corr_matrix = combined_wine_copy[numeric_columns].corr()\n",
    "\n",
    "# # Create a mask for negative correlations\n",
    "# mask = np.zeros_like(corr_matrix)\n",
    "# mask[np.triu_indices_from(mask)] = True  # This masks the upper triangle\n",
    "# mask[corr_matrix <= 0] = True  # This masks negative correlations\n",
    "\n",
    "# # Create the plot\n",
    "# plt.figure(figsize=(12, 8))\n",
    "# sns.heatmap(corr_matrix, \n",
    "#             mask=mask,\n",
    "#             annot=True,  # Show correlation values\n",
    "#             cmap='YlOrRd',  # Use a colormap that works well for positive values\n",
    "#             vmin=0, vmax=1,  # Set the range from 0 to 1\n",
    "#             square=True,\n",
    "#             fmt='.2f')  # Round correlation values to 2 decimal places\n",
    "\n",
    "# plt.title('Positive Correlations in Wine Dataset')\n",
    "# plt.tight_layout()\n",
    "# plt.show()"
   ]
  },
  {
   "cell_type": "code",
   "execution_count": 363,
   "metadata": {},
   "outputs": [],
   "source": [
    "# # Select the numeric columns\n",
    "# numeric_columns = combined_wine_copy.select_dtypes(include=[np.number]).columns\n",
    "# # Calculate the correlation matrix\n",
    "# corr_matrix = combined_wine_copy[numeric_columns].corr()\n",
    "\n",
    "# # Create a mask for positive correlations\n",
    "# mask = np.zeros_like(corr_matrix)\n",
    "# mask[np.triu_indices_from(mask)] = True  # This masks the upper triangle\n",
    "# mask[corr_matrix >= 0] = True  # This masks positive correlations\n",
    "\n",
    "# # Create the plot\n",
    "# plt.figure(figsize=(12, 8))\n",
    "# sns.heatmap(corr_matrix, \n",
    "#             mask=mask,\n",
    "#             annot=True,  # Show correlation values\n",
    "#             cmap='RdBu_r',  # Use a diverging colormap that works well for negative values\n",
    "#             vmin=-1, vmax=0,  # Set the range from -1 to 0\n",
    "#             square=True,\n",
    "#             fmt='.2f')  # Round correlation values to 2 decimal places\n",
    "\n",
    "# plt.title('Negative Correlations in Wine Dataset')\n",
    "# plt.tight_layout()\n",
    "# plt.show()"
   ]
  },
  {
   "cell_type": "code",
   "execution_count": 364,
   "metadata": {},
   "outputs": [],
   "source": [
    "# # Remove columns for fixed acidity and volatile acidity\n",
    "# combined_wine_copy = combined_wine_copy.drop(columns=['fixed acidity', 'volatile acidity'])"
   ]
  },
  {
   "cell_type": "code",
   "execution_count": 365,
   "metadata": {},
   "outputs": [
    {
     "data": {
      "text/plain": [
       "(6497, 14)"
      ]
     },
     "execution_count": 365,
     "metadata": {},
     "output_type": "execute_result"
    }
   ],
   "source": [
    "combined_wine_copy.head()\n",
    "combined_wine_copy.shape"
   ]
  },
  {
   "cell_type": "markdown",
   "metadata": {},
   "source": [
    "Encoding"
   ]
  },
  {
   "cell_type": "code",
   "execution_count": 366,
   "metadata": {},
   "outputs": [
    {
     "data": {
      "text/html": [
       "<div>\n",
       "<style scoped>\n",
       "    .dataframe tbody tr th:only-of-type {\n",
       "        vertical-align: middle;\n",
       "    }\n",
       "\n",
       "    .dataframe tbody tr th {\n",
       "        vertical-align: top;\n",
       "    }\n",
       "\n",
       "    .dataframe thead th {\n",
       "        text-align: right;\n",
       "    }\n",
       "</style>\n",
       "<table border=\"1\" class=\"dataframe\">\n",
       "  <thead>\n",
       "    <tr style=\"text-align: right;\">\n",
       "      <th></th>\n",
       "      <th>fixed acidity</th>\n",
       "      <th>volatile acidity</th>\n",
       "      <th>citric acid</th>\n",
       "      <th>residual sugar</th>\n",
       "      <th>chlorides</th>\n",
       "      <th>free sulfur dioxide</th>\n",
       "      <th>total sulfur dioxide</th>\n",
       "      <th>density</th>\n",
       "      <th>pH</th>\n",
       "      <th>sulphates</th>\n",
       "      <th>alcohol</th>\n",
       "      <th>quality</th>\n",
       "      <th>type</th>\n",
       "      <th>quality_label_high</th>\n",
       "      <th>quality_label_low</th>\n",
       "      <th>quality_label_medium</th>\n",
       "    </tr>\n",
       "  </thead>\n",
       "  <tbody>\n",
       "    <tr>\n",
       "      <th>0</th>\n",
       "      <td>7.4</td>\n",
       "      <td>0.70</td>\n",
       "      <td>0.00</td>\n",
       "      <td>1.9</td>\n",
       "      <td>0.076</td>\n",
       "      <td>11.0</td>\n",
       "      <td>34.0</td>\n",
       "      <td>0.9978</td>\n",
       "      <td>3.51</td>\n",
       "      <td>0.56</td>\n",
       "      <td>9.4</td>\n",
       "      <td>5</td>\n",
       "      <td>red</td>\n",
       "      <td>0</td>\n",
       "      <td>0</td>\n",
       "      <td>1</td>\n",
       "    </tr>\n",
       "    <tr>\n",
       "      <th>1</th>\n",
       "      <td>7.8</td>\n",
       "      <td>0.88</td>\n",
       "      <td>0.00</td>\n",
       "      <td>2.6</td>\n",
       "      <td>0.098</td>\n",
       "      <td>25.0</td>\n",
       "      <td>67.0</td>\n",
       "      <td>0.9968</td>\n",
       "      <td>3.20</td>\n",
       "      <td>0.68</td>\n",
       "      <td>9.8</td>\n",
       "      <td>5</td>\n",
       "      <td>red</td>\n",
       "      <td>0</td>\n",
       "      <td>0</td>\n",
       "      <td>1</td>\n",
       "    </tr>\n",
       "    <tr>\n",
       "      <th>2</th>\n",
       "      <td>7.8</td>\n",
       "      <td>0.76</td>\n",
       "      <td>0.04</td>\n",
       "      <td>2.3</td>\n",
       "      <td>0.092</td>\n",
       "      <td>15.0</td>\n",
       "      <td>54.0</td>\n",
       "      <td>0.9970</td>\n",
       "      <td>3.26</td>\n",
       "      <td>0.65</td>\n",
       "      <td>9.8</td>\n",
       "      <td>5</td>\n",
       "      <td>red</td>\n",
       "      <td>0</td>\n",
       "      <td>0</td>\n",
       "      <td>1</td>\n",
       "    </tr>\n",
       "    <tr>\n",
       "      <th>3</th>\n",
       "      <td>11.2</td>\n",
       "      <td>0.28</td>\n",
       "      <td>0.56</td>\n",
       "      <td>1.9</td>\n",
       "      <td>0.075</td>\n",
       "      <td>17.0</td>\n",
       "      <td>60.0</td>\n",
       "      <td>0.9980</td>\n",
       "      <td>3.16</td>\n",
       "      <td>0.58</td>\n",
       "      <td>9.8</td>\n",
       "      <td>6</td>\n",
       "      <td>red</td>\n",
       "      <td>0</td>\n",
       "      <td>0</td>\n",
       "      <td>1</td>\n",
       "    </tr>\n",
       "    <tr>\n",
       "      <th>4</th>\n",
       "      <td>7.4</td>\n",
       "      <td>0.70</td>\n",
       "      <td>0.00</td>\n",
       "      <td>1.9</td>\n",
       "      <td>0.076</td>\n",
       "      <td>11.0</td>\n",
       "      <td>34.0</td>\n",
       "      <td>0.9978</td>\n",
       "      <td>3.51</td>\n",
       "      <td>0.56</td>\n",
       "      <td>9.4</td>\n",
       "      <td>5</td>\n",
       "      <td>red</td>\n",
       "      <td>0</td>\n",
       "      <td>0</td>\n",
       "      <td>1</td>\n",
       "    </tr>\n",
       "  </tbody>\n",
       "</table>\n",
       "</div>"
      ],
      "text/plain": [
       "   fixed acidity  volatile acidity  citric acid  residual sugar  chlorides  \\\n",
       "0            7.4              0.70         0.00             1.9      0.076   \n",
       "1            7.8              0.88         0.00             2.6      0.098   \n",
       "2            7.8              0.76         0.04             2.3      0.092   \n",
       "3           11.2              0.28         0.56             1.9      0.075   \n",
       "4            7.4              0.70         0.00             1.9      0.076   \n",
       "\n",
       "   free sulfur dioxide  total sulfur dioxide  density    pH  sulphates  \\\n",
       "0                 11.0                  34.0   0.9978  3.51       0.56   \n",
       "1                 25.0                  67.0   0.9968  3.20       0.68   \n",
       "2                 15.0                  54.0   0.9970  3.26       0.65   \n",
       "3                 17.0                  60.0   0.9980  3.16       0.58   \n",
       "4                 11.0                  34.0   0.9978  3.51       0.56   \n",
       "\n",
       "   alcohol  quality type  quality_label_high  quality_label_low  \\\n",
       "0      9.4        5  red                   0                  0   \n",
       "1      9.8        5  red                   0                  0   \n",
       "2      9.8        5  red                   0                  0   \n",
       "3      9.8        6  red                   0                  0   \n",
       "4      9.4        5  red                   0                  0   \n",
       "\n",
       "   quality_label_medium  \n",
       "0                     1  \n",
       "1                     1  \n",
       "2                     1  \n",
       "3                     1  \n",
       "4                     1  "
      ]
     },
     "execution_count": 366,
     "metadata": {},
     "output_type": "execute_result"
    }
   ],
   "source": [
    "# Identifying categorical columns except 'type' since it will be our target\n",
    "cat_cols = combined_wine_copy.select_dtypes(include='object').columns\n",
    "cat_cols = [col for col in cat_cols if col != 'type']  # Exclude 'type' from encoding\n",
    "\n",
    "# Create dummy variables for categorical columns (except type)\n",
    "encoded_cols = pd.get_dummies(combined_wine_copy[cat_cols], dtype=int)\n",
    "\n",
    "# Concatenate the encoded columns with the original dataframe\n",
    "combined_wine_encoded = pd.concat([combined_wine_copy, encoded_cols], axis=1)\n",
    "\n",
    "# Drop the original categorical columns (except type)\n",
    "combined_wine_encoded = combined_wine_encoded.drop(cat_cols, axis=1)\n",
    "combined_wine_encoded.head()"
   ]
  },
  {
   "cell_type": "markdown",
   "metadata": {},
   "source": [
    "split data"
   ]
  },
  {
   "cell_type": "code",
   "execution_count": 367,
   "metadata": {},
   "outputs": [],
   "source": [
    "#importing train_test_split and GridSearchCV\n",
    "from sklearn.model_selection import train_test_split,GridSearchCV\n",
    "\n",
    "X = combined_wine_encoded.drop('type', axis=1) #features\n",
    "y = combined_wine_encoded['type'] #target\n",
    "\n",
    "#splitting the data into training and testing sets\n",
    "X_train, X_test, y_train, y_test = train_test_split(X, y, test_size=0.2, random_state=42)\n"
   ]
  },
  {
   "cell_type": "code",
   "execution_count": 368,
   "metadata": {},
   "outputs": [
    {
     "data": {
      "text/plain": [
       "(1300,)"
      ]
     },
     "execution_count": 368,
     "metadata": {},
     "output_type": "execute_result"
    }
   ],
   "source": [
    "y_test.shape"
   ]
  },
  {
   "cell_type": "markdown",
   "metadata": {},
   "source": [
    "Building model - RandomForestClassifier"
   ]
  },
  {
   "cell_type": "code",
   "execution_count": 369,
   "metadata": {},
   "outputs": [
    {
     "name": "stdout",
     "output_type": "stream",
     "text": [
      "0.9953846153846154\n"
     ]
    },
    {
     "data": {
      "image/png": "[encoded data removed]",
      "text/plain": [
       "<Figure size 800x600 with 2 Axes>"
      ]
     },
     "metadata": {},
     "output_type": "display_data"
    }
   ],
   "source": [
    "#importing random forest classifier\n",
    "from sklearn.ensemble import RandomForestClassifier as randomforestclassifier\n",
    "\n",
    "#initializing the model\n",
    "RF_model = randomforestclassifier(random_state=42)\n",
    "\n",
    "#fitting the model\n",
    "RF_model.fit(X_train, y_train)\n",
    "\n",
    "preds = RF_model.predict(X_test) #predicting\n",
    "X_test\n",
    "y_test\n",
    "\n",
    "from sklearn.metrics import accuracy_score, classification_report, confusion_matrix #importing necessary metrics\n",
    "acc = accuracy_score(y_test, preds) #accuracy\n",
    "print(acc) #accuracy\n",
    "\n",
    "\n",
    "#create a confusion matrix\n",
    "\n",
    "conf_matrix = confusion_matrix(y_test, preds)\n",
    "\n",
    "#create a visualization of the confusion matrix\n",
    "plt.figure(figsize=(8, 6))\n",
    "sns.heatmap(conf_matrix, annot=True, fmt='d', cmap='Blues', xticklabels=['Red', 'White'], yticklabels=['Red', 'White'])\n",
    "plt.xlabel('Predicted labels')\n",
    "plt.ylabel('Actual labels')\n",
    "plt.title('Confusion Matrix for Random Forest Classifier')\n",
    "plt.show()"
   ]
  },
  {
   "cell_type": "code",
   "execution_count": 370,
   "metadata": {},
   "outputs": [
    {
     "name": "stdout",
     "output_type": "stream",
     "text": [
      "              precision    recall  f1-score   support\n",
      "\n",
      "         red       1.00      0.99      0.99       341\n",
      "       white       0.99      1.00      1.00       959\n",
      "\n",
      "    accuracy                           1.00      1300\n",
      "   macro avg       1.00      0.99      0.99      1300\n",
      "weighted avg       1.00      1.00      1.00      1300\n",
      "\n"
     ]
    }
   ],
   "source": [
    "# To get classification report with precision, recall, f1-score\n",
    "from sklearn.metrics import classification_report\n",
    "print(classification_report(y_test, preds))"
   ]
  },
  {
   "cell_type": "markdown",
   "metadata": {},
   "source": [
    "Building model - Decision Tree"
   ]
  },
  {
   "cell_type": "code",
   "execution_count": 371,
   "metadata": {},
   "outputs": [
    {
     "name": "stdout",
     "output_type": "stream",
     "text": [
      "0.9792307692307692\n"
     ]
    },
    {
     "data": {
      "image/png": "[encoded data removed]",
      "text/plain": [
       "<Figure size 800x600 with 2 Axes>"
      ]
     },
     "metadata": {},
     "output_type": "display_data"
    }
   ],
   "source": [
    "#importing decision tree classifier\n",
    "from sklearn.tree import DecisionTreeClassifier\n",
    "\n",
    "#initializing the model\n",
    "DT_model = DecisionTreeClassifier(random_state=42)\n",
    "\n",
    "#fitting the model\n",
    "DT_model.fit(X_train, y_train)\n",
    "\n",
    "# Prediction\n",
    "preds = DT_model.predict(X_test) #predicting\n",
    "X_test\n",
    "y_test\n",
    "\n",
    "# accuracy score\n",
    "from sklearn.metrics import accuracy_score, classification_report, confusion_matrix #importing necessary metrics\n",
    "acc = accuracy_score(y_test, preds) #accuracy\n",
    "print(acc) #accuracy\n",
    "\n",
    "#create a confusion matrix\n",
    "\n",
    "conf_matrix = confusion_matrix(y_test, preds)\n",
    "\n",
    "#create a visualization of the confusion matrix\n",
    "plt.figure(figsize=(8, 6))\n",
    "sns.heatmap(conf_matrix, annot=True, fmt='d', cmap='Blues', xticklabels=['Red', 'White'], yticklabels=['Red', 'White'])\n",
    "plt.xlabel('Predicted labels')\n",
    "plt.ylabel('Actual labels')\n",
    "plt.title('Confusion Matrix for Decision Tree')\n",
    "plt.show() \n"
   ]
  },
  {
   "cell_type": "markdown",
   "metadata": {},
   "source": [
    "Building model - Linear Regression"
   ]
  },
  {
   "cell_type": "code",
   "execution_count": 372,
   "metadata": {},
   "outputs": [
    {
     "name": "stdout",
     "output_type": "stream",
     "text": [
      "0.9746153846153847\n"
     ]
    },
    {
     "name": "stderr",
     "output_type": "stream",
     "text": [
      "/opt/anaconda3/envs/CAB_V1/lib/python3.12/site-packages/sklearn/linear_model/_logistic.py:465: ConvergenceWarning: lbfgs failed to converge (status=1):\n",
      "STOP: TOTAL NO. of ITERATIONS REACHED LIMIT.\n",
      "\n",
      "Increase the number of iterations (max_iter) or scale the data as shown in:\n",
      "    https://scikit-learn.org/stable/modules/preprocessing.html\n",
      "Please also refer to the documentation for alternative solver options:\n",
      "    https://scikit-learn.org/stable/modules/linear_model.html#logistic-regression\n",
      "  n_iter_i = _check_optimize_result(\n"
     ]
    },
    {
     "data": {
      "image/png": "[encoded data removed]",
      "text/plain": [
       "<Figure size 800x600 with 2 Axes>"
      ]
     },
     "metadata": {},
     "output_type": "display_data"
    }
   ],
   "source": [
    "#importing linear regression    \n",
    "from sklearn.linear_model import LogisticRegression\n",
    "\n",
    "#initializing the model\n",
    "LR_model = LogisticRegression(random_state=42)\n",
    "\n",
    "#fitting the model\n",
    "LR_model.fit(X_train, y_train)\n",
    "\n",
    "# Prediction\n",
    "preds = LR_model.predict(X_test) #predicting\n",
    "X_test\n",
    "y_test\n",
    "\n",
    "# accuracy score\n",
    "from sklearn.metrics import accuracy_score, classification_report, confusion_matrix #importing necessary metrics\n",
    "acc = accuracy_score(y_test, preds) #accuracy\n",
    "print(acc) #accuracy\n",
    "\n",
    "#create a confusion matrix\n",
    "\n",
    "conf_matrix = confusion_matrix(y_test, preds)\n",
    "\n",
    "#create a visualization of the confusion matrix\n",
    "plt.figure(figsize=(8, 6))\n",
    "sns.heatmap(conf_matrix, annot=True, fmt='d', cmap='Blues', xticklabels=['Red', 'White'], yticklabels=['Red', 'White'])\n",
    "plt.xlabel('Predicted labels')\n",
    "plt.ylabel('Actual labels')\n",
    "plt.title('Confusion Matrix for Logistic Regression')\n",
    "plt.show() \n"
   ]
  }
 ],
 "metadata": {
  "kernelspec": {
   "display_name": "CAB_V1",
   "language": "python",
   "name": "python3"
  },
  "language_info": {
   "codemirror_mode": {
    "name": "ipython",
    "version": 3
   },
   "file_extension": ".py",
   "mimetype": "text/x-python",
   "name": "python",
   "nbconvert_exporter": "python",
   "pygments_lexer": "ipython3",
   "version": "3.12.2"
  }
 },
 "nbformat": 4,
 "nbformat_minor": 2
}
